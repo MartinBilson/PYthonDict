{
 "cells": [
  {
   "cell_type": "code",
   "execution_count": 2,
   "id": "62bec3ed",
   "metadata": {},
   "outputs": [
    {
     "name": "stdout",
     "output_type": "stream",
     "text": [
      "{'Brand': 'Mercedez Benz AMG', 'Model': 'Mercedez', 'Year': 2016}\n"
     ]
    }
   ],
   "source": [
    "#create and print a dictionary\n",
    "\n",
    "thisdict = {\n",
    "    \"Brand\": \"Mercedez Benz AMG\",\n",
    "    \"Model\":\"Mercedez\",\n",
    "    \"Year\": 2016,\n",
    "}\n",
    "\n",
    "print(thisdict)\n"
   ]
  },
  {
   "cell_type": "code",
   "execution_count": 3,
   "id": "ec2d3268",
   "metadata": {},
   "outputs": [],
   "source": [
    "#Accessing items in dictinary\n",
    "x = thisdict[\"Brand\"]"
   ]
  },
  {
   "cell_type": "code",
   "execution_count": 4,
   "id": "985b61d3",
   "metadata": {},
   "outputs": [
    {
     "name": "stdout",
     "output_type": "stream",
     "text": [
      "Mercedez Benz AMG\n"
     ]
    }
   ],
   "source": [
    "print(x)"
   ]
  },
  {
   "cell_type": "code",
   "execution_count": 5,
   "id": "fffaf14a",
   "metadata": {},
   "outputs": [],
   "source": [
    "#get() method of accesing item\n",
    "x = thisdict.get(\"Model\")"
   ]
  },
  {
   "cell_type": "code",
   "execution_count": 6,
   "id": "1dbe2221",
   "metadata": {},
   "outputs": [
    {
     "name": "stdout",
     "output_type": "stream",
     "text": [
      "Mercedez\n"
     ]
    }
   ],
   "source": [
    "print(x)"
   ]
  },
  {
   "cell_type": "code",
   "execution_count": 7,
   "id": "cb3cf45c",
   "metadata": {},
   "outputs": [],
   "source": [
    "#changing values\n",
    "thisdict[\"Brand\"] = \"Maybach\""
   ]
  },
  {
   "cell_type": "code",
   "execution_count": 8,
   "id": "4fcd7396",
   "metadata": {},
   "outputs": [
    {
     "name": "stdout",
     "output_type": "stream",
     "text": [
      "{'Brand': 'Maybach', 'Model': 'Mercedez', 'Year': 2016}\n"
     ]
    }
   ],
   "source": [
    "print(thisdict)"
   ]
  },
  {
   "cell_type": "code",
   "execution_count": 9,
   "id": "3de0dd6a",
   "metadata": {},
   "outputs": [
    {
     "name": "stdout",
     "output_type": "stream",
     "text": [
      "Brand\n",
      "Model\n",
      "Year\n"
     ]
    }
   ],
   "source": [
    "#loop through a dictionary\n",
    "#print all key name one by one.\n",
    "for x in thisdict:\n",
    "    print(x)"
   ]
  },
  {
   "cell_type": "code",
   "execution_count": 11,
   "id": "0a69b3c4",
   "metadata": {},
   "outputs": [
    {
     "name": "stdout",
     "output_type": "stream",
     "text": [
      "Maybach\n",
      "Mercedez\n",
      "2016\n"
     ]
    }
   ],
   "source": [
    "#print all values one by one.\n",
    "for x in thisdict:\n",
    "    print(thisdict[x])"
   ]
  },
  {
   "cell_type": "code",
   "execution_count": 13,
   "id": "b4637942",
   "metadata": {},
   "outputs": [
    {
     "name": "stdout",
     "output_type": "stream",
     "text": [
      "Maybach\n",
      "Mercedez\n",
      "2016\n"
     ]
    }
   ],
   "source": [
    "#use the values () function to return values of the dictionary\n",
    "for x in thisdict.values():\n",
    "    print(x)"
   ]
  },
  {
   "cell_type": "code",
   "execution_count": 14,
   "id": "2323cd87",
   "metadata": {},
   "outputs": [
    {
     "name": "stdout",
     "output_type": "stream",
     "text": [
      "Brand Maybach\n",
      "Model Mercedez\n",
      "Year 2016\n"
     ]
    }
   ],
   "source": [
    "#loop through both keys and values, by using the items() function.\n",
    "for x,y in thisdict.items():\n",
    "    print(x,y)"
   ]
  },
  {
   "cell_type": "code",
   "execution_count": 16,
   "id": "bf35e1ec",
   "metadata": {},
   "outputs": [
    {
     "name": "stdout",
     "output_type": "stream",
     "text": [
      "3\n"
     ]
    }
   ],
   "source": [
    "#dictionary length\n",
    "print(len(thisdict))"
   ]
  },
  {
   "cell_type": "code",
   "execution_count": 24,
   "id": "3f763e8d",
   "metadata": {},
   "outputs": [
    {
     "name": "stdout",
     "output_type": "stream",
     "text": [
      "{'Brand': 'Maybach', 'Model': 'Mercedez', 'Year': 2016, 'machine': 'Japan Machine', ('machine', 'type'): ('Japan Machine', 'new model')}\n"
     ]
    }
   ],
   "source": [
    "#adding items\n",
    "thisdict[\"machine\"] = \"Japan Machine\"\n",
    "print(thisdict)"
   ]
  },
  {
   "cell_type": "code",
   "execution_count": 23,
   "id": "cd1b76cc",
   "metadata": {},
   "outputs": [
    {
     "ename": "KeyError",
     "evalue": "'type'",
     "output_type": "error",
     "traceback": [
      "\u001b[1;31m---------------------------------------------------------------------------\u001b[0m",
      "\u001b[1;31mKeyError\u001b[0m                                  Traceback (most recent call last)",
      "Input \u001b[1;32mIn [23]\u001b[0m, in \u001b[0;36m<cell line: 2>\u001b[1;34m()\u001b[0m\n\u001b[0;32m      1\u001b[0m \u001b[38;5;66;03m#removing items\u001b[39;00m\n\u001b[1;32m----> 2\u001b[0m \u001b[43mthisdict\u001b[49m\u001b[38;5;241;43m.\u001b[39;49m\u001b[43mpop\u001b[49m\u001b[43m(\u001b[49m\u001b[38;5;124;43m\"\u001b[39;49m\u001b[38;5;124;43mtype\u001b[39;49m\u001b[38;5;124;43m\"\u001b[39;49m\u001b[43m)\u001b[49m\n\u001b[0;32m      3\u001b[0m \u001b[38;5;28mprint\u001b[39m(thisdict)\n",
      "\u001b[1;31mKeyError\u001b[0m: 'type'"
     ]
    }
   ],
   "source": [
    "#removing items\n",
    "thisdict.pop(\"type\")\n",
    "print(thisdict)"
   ]
  },
  {
   "cell_type": "code",
   "execution_count": null,
   "id": "f8030e90",
   "metadata": {},
   "outputs": [],
   "source": []
  },
  {
   "cell_type": "code",
   "execution_count": null,
   "id": "1be11bdb",
   "metadata": {},
   "outputs": [],
   "source": []
  }
 ],
 "metadata": {
  "kernelspec": {
   "display_name": "Python 3 (ipykernel)",
   "language": "python",
   "name": "python3"
  },
  "language_info": {
   "codemirror_mode": {
    "name": "ipython",
    "version": 3
   },
   "file_extension": ".py",
   "mimetype": "text/x-python",
   "name": "python",
   "nbconvert_exporter": "python",
   "pygments_lexer": "ipython3",
   "version": "3.9.12"
  }
 },
 "nbformat": 4,
 "nbformat_minor": 5
}
