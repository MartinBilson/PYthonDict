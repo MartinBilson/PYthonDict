{
 "cells": [
  {
   "cell_type": "code",
   "execution_count": 2,
   "id": "1e61363b",
   "metadata": {},
   "outputs": [
    {
     "name": "stdout",
     "output_type": "stream",
     "text": [
      "{'Brand': 'Mercedez Benz AMG', 'Model': 'Mercedez', 'Year': 2016}\n"
     ]
    }
   ],
   "source": [
    "#create and print a dictionary\n",
    "\n",
    "thisdict = {\n",
    "    \"Brand\": \"Mercedez Benz AMG\",\n",
    "    \"Model\":\"Mercedez\",\n",
    "    \"Year\": 2016,\n",
    "}\n",
    "\n",
    "print(thisdict)\n"
   ]
  },
  {
   "cell_type": "code",
   "execution_count": 3,
   "id": "48637ff0",
   "metadata": {},
   "outputs": [],
   "source": [
    "#Accessing items in dictinary\n",
    "x = thisdict[\"Brand\"]"
   ]
  },
  {
   "cell_type": "code",
   "execution_count": 4,
   "id": "5b72fa40",
   "metadata": {},
   "outputs": [
    {
     "name": "stdout",
     "output_type": "stream",
     "text": [
      "Mercedez Benz AMG\n"
     ]
    }
   ],
   "source": [
    "print(x)"
   ]
  },
  {
   "cell_type": "code",
   "execution_count": 5,
   "id": "48589c5d",
   "metadata": {},
   "outputs": [],
   "source": [
    "#get() method of accesing item\n",
    "x = thisdict.get(\"Model\")"
   ]
  },
  {
   "cell_type": "code",
   "execution_count": 6,
   "id": "69612cdc",
   "metadata": {},
   "outputs": [
    {
     "name": "stdout",
     "output_type": "stream",
     "text": [
      "Mercedez\n"
     ]
    }
   ],
   "source": [
    "print(x)"
   ]
  },
  {
   "cell_type": "code",
   "execution_count": 7,
   "id": "ae841c8c",
   "metadata": {},
   "outputs": [],
   "source": [
    "#changing values\n",
    "thisdict[\"Brand\"] = \"Maybach\""
   ]
  },
  {
   "cell_type": "code",
   "execution_count": 8,
   "id": "b36f03fa",
   "metadata": {},
   "outputs": [
    {
     "name": "stdout",
     "output_type": "stream",
     "text": [
      "{'Brand': 'Maybach', 'Model': 'Mercedez', 'Year': 2016}\n"
     ]
    }
   ],
   "source": [
    "print(thisdict)"
   ]
  },
  {
   "cell_type": "code",
   "execution_count": 9,
   "id": "945c3acb",
   "metadata": {},
   "outputs": [
    {
     "name": "stdout",
     "output_type": "stream",
     "text": [
      "Brand\n",
      "Model\n",
      "Year\n"
     ]
    }
   ],
   "source": [
    "#loop through a dictionary\n",
    "#print all key name one by one.\n",
    "for x in thisdict:\n",
    "    print(x)"
   ]
  },
  {
   "cell_type": "code",
   "execution_count": 11,
   "id": "8b3dbf19",
   "metadata": {},
   "outputs": [
    {
     "name": "stdout",
     "output_type": "stream",
     "text": [
      "Maybach\n",
      "Mercedez\n",
      "2016\n"
     ]
    }
   ],
   "source": [
    "#print all values one by one.\n",
    "for x in thisdict:\n",
    "    print(thisdict[x])"
   ]
  },
  {
   "cell_type": "code",
   "execution_count": 13,
   "id": "bdf120c0",
   "metadata": {},
   "outputs": [
    {
     "name": "stdout",
     "output_type": "stream",
     "text": [
      "Maybach\n",
      "Mercedez\n",
      "2016\n"
     ]
    }
   ],
   "source": [
    "#use the values () function to return values of the dictionary\n",
    "for x in thisdict.values():\n",
    "    print(x)"
   ]
  },
  {
   "cell_type": "code",
   "execution_count": 14,
   "id": "2500b000",
   "metadata": {},
   "outputs": [
    {
     "name": "stdout",
     "output_type": "stream",
     "text": [
      "Brand Maybach\n",
      "Model Mercedez\n",
      "Year 2016\n"
     ]
    }
   ],
   "source": [
    "#loop through both keys and values, by using the items() function.\n",
    "for x,y in thisdict.items():\n",
    "    print(x,y)"
   ]
  },
  {
   "cell_type": "code",
   "execution_count": 16,
   "id": "8aee7059",
   "metadata": {},
   "outputs": [
    {
     "name": "stdout",
     "output_type": "stream",
     "text": [
      "3\n"
     ]
    }
   ],
   "source": [
    "#dictionary length\n",
    "print(len(thisdict))"
   ]
  },
  {
   "cell_type": "code",
   "execution_count": 26,
   "id": "d051aef9",
   "metadata": {},
   "outputs": [
    {
     "name": "stdout",
     "output_type": "stream",
     "text": [
      "{'Brand': 'Maybach', 'Model': 'Mercedez', 'Year': 2016, 'machine': 'Japan Machine', ('machine', 'type'): ('Japan Machine', 'new model')}\n"
     ]
    }
   ],
   "source": [
    "#adding items\n",
    "thisdict[\"machine\"] = \"Japan Machine\"\n",
    "print(thisdict)"
   ]
  },
  {
   "cell_type": "code",
   "execution_count": null,
   "id": "dfb3d896",
   "metadata": {},
   "outputs": [],
   "source": []
  },
  {
   "cell_type": "code",
   "execution_count": null,
   "id": "841aec33",
   "metadata": {},
   "outputs": [],
   "source": []
  },
  {
   "cell_type": "code",
   "execution_count": null,
   "id": "43b37c64",
   "metadata": {},
   "outputs": [],
   "source": []
  }
 ],
 "metadata": {
  "kernelspec": {
   "display_name": "Python 3 (ipykernel)",
   "language": "python",
   "name": "python3"
  },
  "language_info": {
   "codemirror_mode": {
    "name": "ipython",
    "version": 3
   },
   "file_extension": ".py",
   "mimetype": "text/x-python",
   "name": "python",
   "nbconvert_exporter": "python",
   "pygments_lexer": "ipython3",
   "version": "3.9.12"
  }
 },
 "nbformat": 4,
 "nbformat_minor": 5
}
